{
 "cells": [
  {
   "cell_type": "code",
   "execution_count": 1,
   "metadata": {},
   "outputs": [],
   "source": [
    "import os"
   ]
  },
  {
   "cell_type": "code",
   "execution_count": 2,
   "metadata": {},
   "outputs": [],
   "source": [
    "import os\n",
    "import random\n",
    "import shutil\n",
    "\n",
    "root_dir = \"raw_dataset/rgbd-scenes-v2/imgs\"\n",
    "out_images = \"raw_dataset/filter_filterrgbd-scenes-v2/images\"\n",
    "out_labels = \"raw_dataset/filter_filterrgbd-scenes-v2/labels\"\n",
    "\n",
    "os.makedirs(out_images, exist_ok=True)\n",
    "os.makedirs(out_labels, exist_ok=True)\n",
    "\n",
    "scenes = sorted([d for d in os.listdir(root_dir) if d.startswith(\"scene_\")])\n",
    "\n",
    "for scene in scenes:\n",
    "    scene_path = os.path.join(root_dir, scene)\n",
    "    files = sorted([f for f in os.listdir(scene_path) if f.endswith(\"-color.png\")])\n",
    "    \n",
    "    # Lấy id chung cho color/depth\n",
    "    ids = [f.split(\"-\")[0] for f in files]\n",
    "    random.shuffle(ids)\n",
    "    ids = ids[:200]\n",
    "\n",
    "    for idx in ids:\n",
    "        color_file = f\"{idx}-color.png\"\n",
    "        depth_file = f\"{idx}-depth.png\"\n",
    "\n",
    "        # Tạo tên mới\n",
    "        new_color = f\"{scene}_{color_file}\"\n",
    "        new_depth = f\"{scene}_{depth_file}\"\n",
    "\n",
    "        # Copy vào images (color) và labels (depth)\n",
    "        shutil.copy(os.path.join(scene_path, color_file),\n",
    "                    os.path.join(out_images, new_color))\n",
    "        shutil.copy(os.path.join(scene_path, depth_file),\n",
    "                    os.path.join(out_labels, new_depth))\n"
   ]
  },
  {
   "cell_type": "code",
   "execution_count": 3,
   "metadata": {},
   "outputs": [],
   "source": [
    "import os\n",
    "import random\n",
    "import shutil\n",
    "\n",
    "src_images = \"raw_dataset/filter_filterrgbd-scenes-v2/images\"\n",
    "src_labels = \"raw_dataset/filter_filterrgbd-scenes-v2/labels\"\n",
    "dst_root = \"dataset_ours/rgbd-scenes-v2\"\n",
    "\n",
    "splits = {\"train\": 0.8, \"val\": 0.1, \"test\": 0.1}\n",
    "\n",
    "# Tạo thư mục đích\n",
    "for split in splits:\n",
    "    os.makedirs(os.path.join(dst_root, split, \"images\"), exist_ok=True)\n",
    "    os.makedirs(os.path.join(dst_root, split, \"labels\"), exist_ok=True)\n",
    "\n",
    "# Lấy danh sách file ảnh (color)\n",
    "files = sorted(os.listdir(src_images))\n",
    "random.shuffle(files)\n",
    "\n",
    "n_total = len(files)\n",
    "n_train = int(n_total * splits[\"train\"])\n",
    "n_val = int(n_total * splits[\"val\"])\n",
    "\n",
    "split_files = {\n",
    "    \"train\": files[:n_train],\n",
    "    \"val\": files[n_train:n_train + n_val],\n",
    "    \"test\": files[n_train + n_val:]\n",
    "}\n",
    "\n",
    "for split, file_list in split_files.items():\n",
    "    for fname in file_list:\n",
    "        # Tìm depth file tương ứng\n",
    "        depth_name = fname.replace(\"-color.png\", \"-depth.png\")\n",
    "\n",
    "        # Copy\n",
    "        shutil.copy(os.path.join(src_images, fname),\n",
    "                    os.path.join(dst_root, split, \"images\", fname))\n",
    "        shutil.copy(os.path.join(src_labels, depth_name),\n",
    "                    os.path.join(dst_root, split, \"labels\", depth_name))\n"
   ]
  },
  {
   "cell_type": "code",
   "execution_count": null,
   "metadata": {},
   "outputs": [],
   "source": []
  }
 ],
 "metadata": {
  "kernelspec": {
   "display_name": "test",
   "language": "python",
   "name": "python3"
  },
  "language_info": {
   "codemirror_mode": {
    "name": "ipython",
    "version": 3
   },
   "file_extension": ".py",
   "mimetype": "text/x-python",
   "name": "python",
   "nbconvert_exporter": "python",
   "pygments_lexer": "ipython3",
   "version": "3.9.21"
  }
 },
 "nbformat": 4,
 "nbformat_minor": 2
}
